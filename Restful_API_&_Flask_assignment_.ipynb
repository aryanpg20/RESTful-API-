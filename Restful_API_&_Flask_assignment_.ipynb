{
  "nbformat": 4,
  "nbformat_minor": 0,
  "metadata": {
    "colab": {
      "provenance": []
    },
    "kernelspec": {
      "name": "python3",
      "display_name": "Python 3"
    },
    "language_info": {
      "name": "python"
    }
  },
  "cells": [
    {
      "cell_type": "markdown",
      "source": [
        "Q1). What is a RESTful API?\n",
        "\n",
        "A RESTful API (Representational State Transfer API) is a Web service that follows REST priciples to enable communication between different systems over the internet.REST is an architectural style that uses standard HTTP mrthods such as GET, POST, PUT, DELETE to perform operations on resources."
      ],
      "metadata": {
        "id": "fVAY6VzJtss3"
      }
    },
    {
      "cell_type": "markdown",
      "source": [
        "Q2). Explain the concept of API specification?\n",
        "\n",
        "An API Specification is a formal document or standard that defines how an API (Application programming interface) should function, including its endpoints, request/response formats, authentication mechanisms, and expected behaviours.it serves as a contract between the API provider and the consumers, ensuring consistent and predictable interactions."
      ],
      "metadata": {
        "id": "YuPmHz8yvyAi"
      }
    },
    {
      "cell_type": "markdown",
      "source": [
        "Q3). What is Flask, and why is it popular for building APIs?\n",
        "\n",
        "Flask is a lightweight and flexible web framework for python. it is commonly used for building web applications and APIs.Flask is based on WSGI (web server gateway interface) and follows a minimalistic approach, allowing developers to add only the componenets they need.\n",
        "\n",
        "1.Minimalistic & Lightweight - Flask is a microframework, meaning it provides the essentials for web development without unnecessary features, aloowing developers to keep things simple and build only what they need.\n",
        "\n",
        "2.Easy to Learn and use - Flask has a simple and intuitive syntax, making it beginner-friendly and easy to set up for quick API development.\n",
        "\n",
        "3.Flexible and Modular - Unlike monolithic frameorks,Flask lets developers structure their applications as they see fit.it does not impose strict project structures, making it ideal for small to medium sacle APIs.\n",
        "\n",
        "4.Extensive Extensions - While Flask itself is minimal, it supports a wide range of extensions to add features like authentication,database integration, and request parsing.\n",
        "\n",
        "5.RESTful API Support - Flask makes it easy to build RESTful APIs with minimal boilerplate code. it provides built-in support for handling HTTP methods like GET,POSR,PUT, and DELETE."
      ],
      "metadata": {
        "id": "4y1j-oyvw8hF"
      }
    },
    {
      "cell_type": "markdown",
      "source": [
        "Q4). What is routing in Flask?\n",
        "\n",
        "Routing in Flask refers to the process of defining URL paths for your web application and associating them with specific functions that handle requests for those paths, it allows users to access different parts of the application by visiting different URLs."
      ],
      "metadata": {
        "id": "E0s8ezV0z5TI"
      }
    },
    {
      "cell_type": "markdown",
      "source": [
        "Q5). How do you create a simple Flask application?\n",
        "\n",
        "To create a simple Flask application, import the Flask class, create an instance of it, define a route using the @app.route() decorator, and then define a function to handle requests to that route, returning a response.\n",
        "\n",
        "1.Import the Flask Class:\n",
        "2.Create a Flask Application:\n",
        "3.Define a Route and a View Function:\n",
        "4.Run the Application:\n"
      ],
      "metadata": {
        "id": "gPi1bG9w0dfg"
      }
    },
    {
      "cell_type": "markdown",
      "source": [
        "Q6). What are HTTP methods used in RESTful APIs?\n",
        "\n",
        "1.GET - Retrieves data from a resource\n",
        "\n",
        "2.POST - Creates a new resource\n",
        "\n",
        "3.PUT - Updates or replaces an existing resource\n",
        "\n",
        "4.PATCH - Partially updates an existing resourc\n",
        "\n",
        "5.DELETE - Removes a resource\n",
        "\n",
        "6.OPTIONS - Retrieves allowed HTTP methods for a resource\n",
        "\n",
        "7.HEAD - REtrieves headers without the response body\n",
        "\n",
        "8.TRACE - Used for diagnostic purposes, echoing the recieved request.\n",
        "\n",
        "9.CONNECT - Establishes a tunnel to a server.\n",
        "\n"
      ],
      "metadata": {
        "id": "Dy4lUuSz1vBj"
      }
    },
    {
      "cell_type": "markdown",
      "source": [
        "Q7). What is the purpose of the @app.route() decorator in Flask?\n",
        "\n",
        "PURPOSE OF @app.route():\n",
        "1.Defines Routes: Specifies which URL should trigger a particular function.\n",
        "\n",
        "2.Handle HTTP Methods: Can specify methods like GET,POST,PUT,etc.\n",
        "\n",
        "3.Dynamic Routing: Supports variable parts in URLs,allowing dynamic data handling.\n",
        "\n"
      ],
      "metadata": {
        "id": "Z6S1AqvgDH1b"
      }
    },
    {
      "cell_type": "markdown",
      "source": [
        "Q8). What is the difference between GET and POST HTTP methods?\n",
        "\n",
        "GET Method:\n",
        "Used to request data from a server.\n",
        "parameters are sent in the URL as query strings.\n",
        "cached by browsers,meaning resonses can be stored and reused.\n",
        "visible in the browser's address bar,making it less secure for sensitive data.\n",
        "idempotent(repeated requets should not change the server state).\n",
        "suitable for fetching data.\n",
        "\n",
        "POST method:\n",
        "Used to send data to a server for processing.\n",
        "Parameters are sent in the body of the request, not visible in the URL.\n",
        "Not cached by browsers by default.\n",
        "More secure for sending sensitive data (but should still be encrypted via HTTPS).\n",
        "Not idempotent(repeated submissions can create duplicate entries.\n",
        "suitable for operations that modify data.\n",
        "\n"
      ],
      "metadata": {
        "id": "ZUUi3dIBEXBh"
      }
    },
    {
      "cell_type": "markdown",
      "source": [
        "Q9). How do you handle errors in Flask APIs?\n",
        "\n",
        "Handling errors properly in a Flask API ensures a smooth user experience and helps with debugging. Here are the key ways to handle errors in a Flask API\n",
        "\n",
        "1.Using Flask's abort() function - Flask provides the abort() function to return specific HTTP error codes.\n",
        "\n",
        "2.Using @app.errorhandler to Customize Error Responses - You can define custom error handlers for specific HTTP status codes.\n",
        "\n",
        "3.Handling Exceptions Globally - If you want to catch all unhandled exceptions and return a generic error response.\n",
        "\n",
        "4.Using Custom Exception Classes - Creating custom exception classes improves maintainability.\n",
        "\n",
        "5.Handling Errors in Flask-RESTful - if you are using Flask-RESTful,you can define error handling .\n",
        "\n",
        "6.Logging Errors - Logging helps track and debug issues.\n",
        "\n"
      ],
      "metadata": {
        "id": "NSMSzOipGvmU"
      }
    },
    {
      "cell_type": "markdown",
      "source": [
        "Q10). How do you connect Flask to a SQL database?\n",
        "\n",
        "To connect Flask to a SQL database, you typically use SQLAlchemy, which is a powerful object relational mapper (ORM) for python.\n",
        "\n",
        "1.Install Dependencies\n",
        "2.Configure Flask with SQLAlchemy\n",
        "3.Running the Application\n",
        "4.Using the Database\n",
        "\n",
        "\n"
      ],
      "metadata": {
        "id": "MPC2jPhTXKV7"
      }
    },
    {
      "cell_type": "markdown",
      "source": [
        "Q11). What is the role of Flask-SQLAlchemy?\n",
        "\n",
        "Flask-SQLAlchemy is an extension for Flask that integrates SQLAlchemy, a powerful object relational mapper (ORM), with Flask applications.it simplifies database management and interactions by providing a high-level abstraction over SQL databases."
      ],
      "metadata": {
        "id": "WqJ6kxh9kuS6"
      }
    },
    {
      "cell_type": "markdown",
      "source": [
        "Q12). What are Flask blueprints, and how are they useful?\n",
        "\n",
        "Flask Blueprints are a way to organize a Flask application into smaller,reusable modules.They allow you to define application components in a modular way, making it easier to structure and manage larger apllications.\n",
        "\n",
        "1.Modularity: Helps break a large app into smaller, manageable parts.\n",
        "\n",
        "2.Reusability: Blueprints can be reused across different projects.\n",
        "\n",
        "3.Better code organization: Helps keep your app structured and easier to maintain.\n",
        "\n",
        "4.Team collaboration: Different teams can work on different blueprints independently."
      ],
      "metadata": {
        "id": "E9UUpQg7lf6_"
      }
    },
    {
      "cell_type": "markdown",
      "source": [
        "Q13). What is the purpose of Flask's request object?\n",
        "\n",
        "The Flask request object in Flask is used to access incoming request data sent by a client to a flask application.it provides methods and attributes to retrive from data,query parameters,headers,cookies,files and JSON data.it is an instance of the request class provided by werkzeug, which Flask is built upon."
      ],
      "metadata": {
        "id": "h_6zw0fXnDSR"
      }
    },
    {
      "cell_type": "markdown",
      "source": [
        "Q14). How do you create a RESTful API endpoint using Flask?\n",
        "\n",
        "Creating a RESTful API endpoint using Flask involves setting up a flask application,defining routes, and handling HTTP methods such as GET, POST, PUT, and DELETE.\n",
        "\n",
        "1.Install Flask\n",
        "2.Create a Basic Flask App\n",
        "3.Run the API\n",
        "4.Testing the API"
      ],
      "metadata": {
        "id": "bWDvv8VTn6Pc"
      }
    },
    {
      "cell_type": "markdown",
      "source": [
        "Q15). What is the purpose of Flask's jsonify() function?\n",
        "\n",
        "PURPOSE OF jsonify():\n",
        "\n",
        "1.Converts python objects to JSON format\n",
        "\n",
        "2.sets the correct MIME type (application/json)\n",
        "\n",
        "3.Handles encoding automatically\n",
        "\n",
        "4.Supports Unicode and special characters\n",
        "\n",
        "5.Makes API responses structured and readable."
      ],
      "metadata": {
        "id": "s0zK9XK4o4qR"
      }
    },
    {
      "cell_type": "markdown",
      "source": [
        "Q16). Explain Flask’s url_for() function?\n",
        "\n",
        "Flask's url_for() function is used to generate URLs for a given endpoint dynamically. Instead of hardcoding URLs in templates or views, url_for() constructs them based on the function name of the route, making the application more maintainable and scalable."
      ],
      "metadata": {
        "id": "QnDGYYI0rLe3"
      }
    },
    {
      "cell_type": "markdown",
      "source": [
        "Q17). How does Flask handle static files (CSS, JavaScript, etc.)?\n",
        "\n",
        "Flask handles static files (such as CSS,JavaScript and images) using a special \"static\" folder inside your project directory.By default, Flask automatically serves files placed inside the static/directory."
      ],
      "metadata": {
        "id": "vk4hE51todIV"
      }
    },
    {
      "cell_type": "markdown",
      "source": [
        "Q18). What is an API specification, and how does it help in building a Flask API?\n",
        "\n",
        "An API specification is a formal document or blueprint that outlines how an API should behave. it defines the endpoints, request methods, request/response formats, authentication methods, error codes, and other essential details.API specifications are crucial for ensuring consistency, maintainability and collaboration among developers.\n",
        "\n",
        "1.Clear Structure & Planning: Defines endpoints(users,/ products,etc) and HTTP methods (GET,POST,etc)\n",
        "specifies required and optional parameters,headers and request body formats.\n",
        "\n",
        "2.Consistency & Standardization: Ensures that different developers follow the same rules.\n",
        "helps maintain uniform API behaviour across different services.\n",
        "\n",
        "3.Automatic Documentation: Tools like Swagger(open API)  and Postman generate interactive documentation from the spec.\n",
        "Users can test API calls directly from the docs.\n",
        "\n",
        "4.Validation & Error Handling: Allows for automatic request validation using tools like Flask-RESTful or Flask-Swagger.\n",
        "prevents invalid data from reaching the API.\n",
        "\n",
        "5.Client-Server Communication: Frontend or mobile developers can devlop their application in parallel using the API specs.\n",
        "Avoids confusion about request/response formats."
      ],
      "metadata": {
        "id": "PJwMvHkwprpt"
      }
    },
    {
      "cell_type": "markdown",
      "source": [
        "Q19). What are HTTP status codes, and why are they important in a Flask API?\n",
        "\n",
        "HTTP status codes are standardized response codes issued by a server in response to a clients request made to the server.They indicate whether a request was successfully completed or if an error occured.Each status code consists of three digits and falls into different categories.\n",
        "When an error occurs in Flask, an appropriate HTTP status code will be returned.400-499 indicate errors with the clients request data, or about the data requested.500-599 indicate errors with the server or application itself.you might want to show custom error pages to the user when an error occurs."
      ],
      "metadata": {
        "id": "zxSZCLLItG65"
      }
    },
    {
      "cell_type": "markdown",
      "source": [
        "Q20). How do you handle POST requests in Flask?\n",
        "\n",
        "In Flask,handling POST requests is done using the @app.route decorator with the methods=['POST'] argument.The request data can be accessed using Flask's request object."
      ],
      "metadata": {
        "id": "hF-W6sd5u79X"
      }
    },
    {
      "cell_type": "markdown",
      "source": [
        "Q21). How would you secure a Flask API?\n",
        "\n",
        "1.Use Authentication & Authorization:\n",
        "\n",
        "JWT (JSON Web Token): use libraries like flask-JWT-Extended to manage token-based authentication.\n",
        "\n",
        "OAuth2: use Authlib for integrating OAuth2 authentication with providers like google,Facebook or Github.\n",
        "\n",
        "API Keys: Require clients to send an API key in headers for authentication.\n",
        "\n",
        "2.USE HTTPS.\n",
        "\n",
        "Enforce HTTPS to encrypt communication.\n",
        "\n",
        "Use Flask-Talisman to enforce security headers.\n",
        "\n",
        "3.Validate and Sanitize input:\n",
        "\n",
        "use marshmallow for data validation.\n",
        "\n",
        "Prevent SQL injection by using ORMs like SQLAlchemy with parameterized queries.\n",
        "\n",
        "Escape special characters to prevent XSS.\n",
        "\n",
        "4.Limit Rate of API Requests:\n",
        "\n",
        "use flask-limiter to prevent abuse and DDoS attacks.\n",
        "\n",
        "5.Enable CORS Properly\n",
        "\n",
        "use Flask-CORS to restrict which doamins can access your API.\n",
        "\n",
        "6.Secure Cookies and Sessions:\n",
        "\n",
        "Set secure,httponly and samesite attributes for cookies.\n",
        "\n",
        "store sensitive data securely."
      ],
      "metadata": {
        "id": "kfjb4XC4vn0a"
      }
    },
    {
      "cell_type": "markdown",
      "source": [
        "Q22). What is the significance of the Flask-RESTful extension?\n",
        "\n",
        "1.Simplifies API Development:\n",
        "\n",
        "Provides a structured and organized way to build RESTful APIs.\n",
        "\n",
        "Offers Built-in request parsing and validation using reqparse.\n",
        "\n",
        "2.Enhances Readability and Maintainability:\n",
        "\n",
        "uses class-based resource routing, making API views cleaner and more modular.\n",
        "\n",
        "Supports method-based request  handling (GET,POST,PUT,DELETE).\n",
        "\n",
        "3.integrated request parsing:\n",
        "\n",
        "Handles request data parsing and validation efficiently.\n",
        "\n",
        "prevents common issues like missing or invalid parameters.\n",
        "\n",
        "4.Supports JSON Serialization:\n",
        "\n",
        "Automatically converts python dictionaries and objects into JSON responses.\n",
        "\n",
        "5.Built-in Exception Handling:\n",
        "\n",
        "Provides standard HTTP error responses with clear messages.\n",
        "\n",
        "6.Easy Integration with Flask:\n",
        "\n",
        "works seamlessly with flask's routing and middleware.\n",
        "\n",
        "Can be combined with flask extensions like Flask-JWT,Flask-SQLAlchemy,etc."
      ],
      "metadata": {
        "id": "RC7YUtcGyDBy"
      }
    },
    {
      "cell_type": "markdown",
      "source": [
        "Q23). What is the role of Flask’s session object?\n",
        "\n",
        "The session object in Flask is used to store user-specific data across multiple requests. it helps maintain stateful behavior in a stateless protocol like HTTP.The session data is stored on the server and can be accessed and modified during a user's interaction with the web application."
      ],
      "metadata": {
        "id": "gzY1w4k30_2W"
      }
    },
    {
      "cell_type": "markdown",
      "source": [
        "# **PRACTICAL QUESTIONS**"
      ],
      "metadata": {
        "id": "qqRz6OsVQuls"
      }
    },
    {
      "cell_type": "markdown",
      "source": [
        "Q1). How do you create a basic Flask application.\n",
        "\n"
      ],
      "metadata": {
        "id": "C-OlM3--Q2Cy"
      }
    },
    {
      "cell_type": "code",
      "source": [
        "from flask import Flask\n",
        "\n",
        "app = Flask(__name__)\n",
        "\n",
        "@app.route('/')\n",
        "def hello_world():\n",
        "    return 'Hello World'\n",
        "\n",
        "if __name__ == '__main__':\n",
        "    app.run"
      ],
      "metadata": {
        "id": "_aOdGzidVJPJ"
      },
      "execution_count": null,
      "outputs": []
    },
    {
      "cell_type": "markdown",
      "source": [
        "Q2). How do you serve static files like images or CSS in Flask.\n",
        "\n"
      ],
      "metadata": {
        "id": "8Pw7uV-HVYCi"
      }
    },
    {
      "cell_type": "code",
      "source": [
        "from flask import Flask, render_template\n",
        "\n",
        "app = Flask(__name__)\n",
        "\n",
        "@app.route('/')\n",
        "def index():\n",
        "    return render_template('index.html')"
      ],
      "metadata": {
        "id": "Uk_m1CG-V5-u"
      },
      "execution_count": null,
      "outputs": []
    },
    {
      "cell_type": "markdown",
      "source": [
        "Q3). How do you define different routes with different HTTP methods in Flask."
      ],
      "metadata": {
        "id": "Mxra3C8WWkRb"
      }
    },
    {
      "cell_type": "code",
      "source": [
        "@app.route('/login', methods=['GET', 'POST'])\n",
        "def login():\n",
        "    if request.method == 'POST':\n",
        "        # Handle login logic here\n",
        "        pass\n",
        "    return render_template('login.html')"
      ],
      "metadata": {
        "id": "yNK-WdMmWrOV"
      },
      "execution_count": null,
      "outputs": []
    },
    {
      "cell_type": "markdown",
      "source": [
        "Q4). How do you render HTML templates in Flask."
      ],
      "metadata": {
        "id": "pfbKzofMXteq"
      }
    },
    {
      "cell_type": "code",
      "source": [
        "\n",
        "from flask import Flask, render_template\n",
        "\n",
        "app = Flask(__name__)\n",
        "\n",
        "@app.route('/')\n",
        "def index():\n",
        "    user = {'username': 'John'}\n",
        "    return render_template('index.html', user=user)"
      ],
      "metadata": {
        "id": "Nou_Z_QvXyw2"
      },
      "execution_count": null,
      "outputs": []
    },
    {
      "cell_type": "markdown",
      "source": [
        "Q5). How can you generate URLs for routes in Flask using url_for."
      ],
      "metadata": {
        "id": "jzQ3_ounYi8Y"
      }
    },
    {
      "cell_type": "code",
      "source": [
        "\n",
        "from flask import Flask, url_for\n",
        "\n",
        "app = Flask(__name__)\n",
        "\n",
        "@app.route('/')\n",
        "def index():\n",
        "    return 'Hello, World!'"
      ],
      "metadata": {
        "id": "IbxwfRt8Yodv"
      },
      "execution_count": null,
      "outputs": []
    },
    {
      "cell_type": "markdown",
      "source": [
        "Q6). How do you handle forms in Flask."
      ],
      "metadata": {
        "id": "fHVXgmALZYAK"
      }
    },
    {
      "cell_type": "code",
      "source": [
        "from flask import Flask, render_template, request\n",
        "\n",
        "app = Flask(__name__)\n",
        "\n",
        "@app.route('/')\n",
        "def index():\n",
        "    return render_template('index.html')"
      ],
      "metadata": {
        "id": "OkCUbiS1ZcgN"
      },
      "execution_count": null,
      "outputs": []
    },
    {
      "cell_type": "markdown",
      "source": [
        "Q7). How can you validate form data in Flask."
      ],
      "metadata": {
        "id": "rwMnknXQZwe3"
      }
    },
    {
      "cell_type": "code",
      "source": [
        "from flask import Flask, request, url_for\n",
        "\n",
        "@app.route(\"/data\", methods=['POST'])\n",
        "def data():\n",
        "    name = request.form.get('name')\n",
        "    email = request.form.get('email')"
      ],
      "metadata": {
        "id": "1DnAsVBwZ1Dg"
      },
      "execution_count": null,
      "outputs": []
    },
    {
      "cell_type": "markdown",
      "source": [
        "Q8). How do you manage sessions in Flask."
      ],
      "metadata": {
        "id": "PnB1phnsagIP"
      }
    },
    {
      "cell_type": "code",
      "source": [
        "@app.route('/login/<username>')\n",
        "def login(username):\n",
        "    session['username'] = username\n",
        "    return redirect(url_for('index'))"
      ],
      "metadata": {
        "id": "aci9T9jPalZw"
      },
      "execution_count": null,
      "outputs": []
    },
    {
      "cell_type": "markdown",
      "source": [
        "Q9). How do you redirect to a different route in Flask."
      ],
      "metadata": {
        "id": "R6JnvaYQbYWi"
      }
    },
    {
      "cell_type": "code",
      "source": [
        "import os\n",
        "from flask import Flask\n",
        "\n",
        "app = Flask(__name__)\n",
        "\n",
        "@app.route('/')\n",
        "def index():\n",
        "    return 'Hello, World!'\n",
        "\n",
        "if __name__ == '__main__':\n",
        "    port = int(os.environ.get('PORT', 5000))\n",
        "    app.run(host='0.0.0.0', port=port)"
      ],
      "metadata": {
        "colab": {
          "base_uri": "https://localhost:8080/"
        },
        "collapsed": true,
        "id": "-HoX3w-fbeZz",
        "outputId": "af5a1694-799c-4465-922b-1d8323bbb6b0"
      },
      "execution_count": null,
      "outputs": [
        {
          "output_type": "stream",
          "name": "stdout",
          "text": [
            " * Serving Flask app '__main__'\n",
            " * Debug mode: off\n"
          ]
        },
        {
          "output_type": "stream",
          "name": "stderr",
          "text": [
            "INFO:werkzeug:\u001b[31m\u001b[1mWARNING: This is a development server. Do not use it in a production deployment. Use a production WSGI server instead.\u001b[0m\n",
            " * Running on all addresses (0.0.0.0)\n",
            " * Running on http://127.0.0.1:5000\n",
            " * Running on http://172.28.0.12:5000\n",
            "INFO:werkzeug:\u001b[33mPress CTRL+C to quit\u001b[0m\n"
          ]
        }
      ]
    },
    {
      "cell_type": "markdown",
      "source": [
        "Q10). How do you handle errors in Flask (e.g., 404)."
      ],
      "metadata": {
        "id": "Mjz1Cy7ncYAH"
      }
    },
    {
      "cell_type": "code",
      "source": [
        "from flask import abort, jsonify\n",
        "\n",
        "@app.errorhandler(404)\n",
        "def not_found_error(error):\n",
        "    return jsonify({'error': 'Not found'}), 404"
      ],
      "metadata": {
        "id": "RS5b01UXcc51"
      },
      "execution_count": null,
      "outputs": []
    },
    {
      "cell_type": "markdown",
      "source": [
        "Q11). How do you structure a Flask app using Blueprints."
      ],
      "metadata": {
        "id": "6BSxQbaedKJO"
      }
    },
    {
      "cell_type": "code",
      "source": [
        "from flask import Blueprint\n",
        "\n",
        "bp = Blueprint('bp', __name__)\n",
        "\n",
        "@bp.route('/')\n",
        "def index():\n",
        "    return 'Hello, World!'\n",
        "\n",
        "app.register_blueprint(bp)"
      ],
      "metadata": {
        "id": "cPq2Gn_idQFv"
      },
      "execution_count": null,
      "outputs": []
    },
    {
      "cell_type": "markdown",
      "source": [
        "Q12). How do you define a custom Jinja filter in Flask."
      ],
      "metadata": {
        "id": "SmuD3BffdfQp"
      }
    },
    {
      "cell_type": "code",
      "source": [
        "@app.template_filter('custom_filter')\n",
        "def custom_filter(value):\n",
        "    return value.upper()"
      ],
      "metadata": {
        "id": "juWoPo16dkmo"
      },
      "execution_count": null,
      "outputs": []
    },
    {
      "cell_type": "markdown",
      "source": [
        "Q13). How can you redirect with query parameters in Flask."
      ],
      "metadata": {
        "id": "B0VLu1NCd8ys"
      }
    },
    {
      "cell_type": "code",
      "source": [
        "from flask import Flask, redirect, url_for, request\n",
        "\n",
        "app = Flask(__name__)\n",
        "\n",
        "@app.route('/login')\n",
        "def login():\n",
        "    username = request.args.get('username')\n",
        "    return redirect(url_for('home', username=username))"
      ],
      "metadata": {
        "id": "vSxdxI7XXZZL"
      },
      "execution_count": 8,
      "outputs": []
    },
    {
      "cell_type": "markdown",
      "source": [
        "Q14). How do you return JSON responses in Flask."
      ],
      "metadata": {
        "id": "LhaBBFDTXv6a"
      }
    },
    {
      "cell_type": "code",
      "source": [
        "\n",
        "from flask import jsonify\n",
        "\n",
        "@app.route('/api/data')\n",
        "def get_data():\n",
        "    data = {'message': 'Hello, World!'}\n",
        "    return jsonify(data)"
      ],
      "metadata": {
        "id": "v1dA2U_eX56M"
      },
      "execution_count": 9,
      "outputs": []
    },
    {
      "cell_type": "markdown",
      "source": [
        "Q15). How do you capture URL parameters in Flask."
      ],
      "metadata": {
        "id": "4q1y3DUJYotS"
      }
    },
    {
      "cell_type": "code",
      "source": [
        "from flask import Flask\n",
        "\n",
        "app = Flask(__name__)\n",
        "\n",
        "@app.route('/user/<username>')\n",
        "def show_user_profile(username):\n",
        "    return f'User {username}'"
      ],
      "metadata": {
        "id": "gAY-XFkRYti_"
      },
      "execution_count": 1,
      "outputs": []
    }
  ]
}